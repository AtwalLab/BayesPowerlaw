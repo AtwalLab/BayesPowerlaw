{
 "cells": [
  {
   "cell_type": "code",
   "execution_count": 1,
   "metadata": {},
   "outputs": [],
   "source": [
    "from scipy.optimize import newton\n",
    "from scipy.special import zeta\n",
    "import scipy as sp\n",
    "import numpy as np\n",
    "from scipy.stats import uniform\n",
    "import matplotlib.pyplot as plt\n",
    "%matplotlib inline"
   ]
  },
  {
   "cell_type": "code",
   "execution_count": 2,
   "metadata": {},
   "outputs": [],
   "source": [
    "import powerlaw as pl"
   ]
  },
  {
   "cell_type": "code",
   "execution_count": 3,
   "metadata": {},
   "outputs": [],
   "source": [
    "data1=pl.power_law(3.01,1000,1000)"
   ]
  },
  {
   "cell_type": "code",
   "execution_count": 4,
   "metadata": {},
   "outputs": [],
   "source": [
    "fit=pl.Fit_Bayes(data1)"
   ]
  },
  {
   "cell_type": "code",
   "execution_count": 5,
   "metadata": {},
   "outputs": [],
   "source": [
    "gammas, weights=fit.posterior()"
   ]
  },
  {
   "cell_type": "code",
   "execution_count": 7,
   "metadata": {},
   "outputs": [
    {
     "data": {
      "text/plain": [
       "<matplotlib.legend.Legend at 0x116638470>"
      ]
     },
     "execution_count": 7,
     "metadata": {},
     "output_type": "execute_result"
    },
    {
     "data": {
      "image/png": "[encoded data removed]",
      "text/plain": [
       "<matplotlib.figure.Figure at 0x116434780>"
      ]
     },
     "metadata": {},
     "output_type": "display_data"
    }
   ],
   "source": [
    "plt.figure()\n",
    "fit.plot_fit(np.mean(gammas[0]),label='powerlaw')\n",
    "plt.xlim(0.7,120)\n",
    "plt.legend(fontsize=15)"
   ]
  },
  {
   "cell_type": "code",
   "execution_count": null,
   "metadata": {},
   "outputs": [],
   "source": [
    "x=fit.gammas"
   ]
  },
  {
   "cell_type": "code",
   "execution_count": null,
   "metadata": {},
   "outputs": [],
   "source": [
    "y=fit.prior_gamma"
   ]
  },
  {
   "cell_type": "code",
   "execution_count": null,
   "metadata": {},
   "outputs": [],
   "source": [
    "y=[fit.Z_jeffrey(i) for i in fit.gammas]"
   ]
  },
  {
   "cell_type": "code",
   "execution_count": null,
   "metadata": {},
   "outputs": [],
   "source": [
    "plt.plot(x,y)"
   ]
  },
  {
   "cell_type": "code",
   "execution_count": null,
   "metadata": {},
   "outputs": [],
   "source": [
    "(sp.stats.uniform(0, 1)).pdf(fit.weight)"
   ]
  },
  {
   "cell_type": "code",
   "execution_count": 11,
   "metadata": {},
   "outputs": [],
   "source": [
    "range=(1,6)"
   ]
  },
  {
   "cell_type": "code",
   "execution_count": 13,
   "metadata": {},
   "outputs": [
    {
     "data": {
      "text/plain": [
       "tuple"
      ]
     },
     "execution_count": 13,
     "metadata": {},
     "output_type": "execute_result"
    }
   ],
   "source": [
    "type(range)"
   ]
  },
  {
   "cell_type": "code",
   "execution_count": 10,
   "metadata": {},
   "outputs": [
    {
     "data": {
      "image/png": "[encoded data removed]",
      "text/plain": [
       "<matplotlib.figure.Figure at 0x1168864e0>"
      ]
     },
     "metadata": {},
     "output_type": "display_data"
    }
   ],
   "source": [
    "plt.figure()\n",
    "\n",
    "fit.plot_posterior(gammas[0],range=(1,6))"
   ]
  },
  {
   "cell_type": "code",
   "execution_count": null,
   "metadata": {},
   "outputs": [],
   "source": [
    "unique, counts = np.unique(data1, return_counts=True)\n",
    "frequency = counts / np.sum(counts)"
   ]
  },
  {
   "cell_type": "code",
   "execution_count": null,
   "metadata": {},
   "outputs": [],
   "source": [
    "def powerlawpdf(self,final_gamma):\n",
    "    \"\"\"The power law probability function\n",
    "    Input: x - array of clone sizes; gamma - desired exponent.\n",
    "    Output: array of probabilities of each clone size x.\"\"\"\n",
    "\n",
    "    xpmax = max(data1)\n",
    "    xp = np.arange(self.xmin, xpmax)\n",
    "    yp=(xp**(-final_gamma))\n",
    "\n",
    "    return xp, yp"
   ]
  },
  {
   "cell_type": "code",
   "execution_count": null,
   "metadata": {},
   "outputs": [],
   "source": [
    "xpmax = max(data1)\n",
    "xp = np.arange(min(data1), xpmax)\n",
    "yp=(xp**(-1.01)/8)"
   ]
  },
  {
   "cell_type": "code",
   "execution_count": null,
   "metadata": {},
   "outputs": [],
   "source": [
    "xpmax = max(data1)\n",
    "xp = np.arange(min(data1), xpmax)\n",
    "yp_er=(xp**(-0.01)/8)"
   ]
  },
  {
   "cell_type": "code",
   "execution_count": null,
   "metadata": {},
   "outputs": [],
   "source": [
    "yp_er"
   ]
  },
  {
   "cell_type": "code",
   "execution_count": null,
   "metadata": {},
   "outputs": [],
   "source": [
    "error = np.log(np.array([0.01]*len(yp)))"
   ]
  },
  {
   "cell_type": "code",
   "execution_count": null,
   "metadata": {},
   "outputs": [],
   "source": [
    "# plt.loglog(unique,frequency,'o',color=None,label=None,markeredgecolor='black',markersize=6)\n",
    "plt.xscale('log')\n",
    "plt.yscale('log')\n",
    "plt.scatter(unique,frequency,color=None,label=None,edgecolor='black',s=6)\n",
    "plt.plot(xp,yp)\n",
    "plt.fill_between(xp, np.log(yp)-np.log(yp_er), np.log(yp)+np.log(yp_er),alpha=0.5,color='gray',interpolate=True)"
   ]
  },
  {
   "cell_type": "code",
   "execution_count": null,
   "metadata": {},
   "outputs": [],
   "source": [
    "fit.plot_fit(1.1,0.1)"
   ]
  },
  {
   "cell_type": "code",
   "execution_count": null,
   "metadata": {},
   "outputs": [],
   "source": [
    "data1=pl.power_law(1.01,1000,100000)\n",
    "data2=pl.power_law(3.01,1000,100000)\n",
    "data3=pl.power_law(3.01,1000,100000)\n",
    "data=np.concatenate((data1,data2),axis=0)"
   ]
  },
  {
   "cell_type": "code",
   "execution_count": null,
   "metadata": {},
   "outputs": [],
   "source": [
    "data_fit=pl.Fit_Bayes(data,mixed=1)"
   ]
  },
  {
   "cell_type": "code",
   "execution_count": null,
   "metadata": {},
   "outputs": [],
   "source": [
    "#1\n",
    "data_fit.bic"
   ]
  },
  {
   "cell_type": "code",
   "execution_count": null,
   "metadata": {},
   "outputs": [],
   "source": [
    "#2\n",
    "data_fit.bic"
   ]
  },
  {
   "cell_type": "code",
   "execution_count": null,
   "metadata": {},
   "outputs": [],
   "source": [
    "#3\n",
    "data_fit.bic"
   ]
  },
  {
   "cell_type": "code",
   "execution_count": null,
   "metadata": {},
   "outputs": [],
   "source": [
    "plt.hist((data_fit.samples_gamma)[0])\n"
   ]
  },
  {
   "cell_type": "code",
   "execution_count": null,
   "metadata": {},
   "outputs": [],
   "source": [
    "plt.hist((data_fit.samples_gamma)[0])\n",
    "plt.hist((data_fit.samples_gamma)[1])\n",
    "plt.hist((data_fit.samples_gamma)[2])"
   ]
  },
  {
   "cell_type": "code",
   "execution_count": null,
   "metadata": {},
   "outputs": [],
   "source": [
    "plt.hist((data_fit.samples_weight)[0])\n",
    "plt.hist((data_fit.samples_weight)[1])\n",
    "plt.hist((data_fit.samples_weight)[2])"
   ]
  },
  {
   "cell_type": "code",
   "execution_count": null,
   "metadata": {},
   "outputs": [],
   "source": [
    "def Z(gamma, xmin, xmax, discrete=True):\n",
    "    \"\"\"\n",
    "    The normalization function Z for discrete and continuous powerlaw distributions.\n",
    "    Input: gamma - a randomly sampled target exponent using MCMC algorithm.\n",
    "    Output: s - normalization value.\n",
    "    \"\"\"\n",
    "    if discrete==True: #when powerlaw is discrete\n",
    "        if np.isfinite(xmax): #if xmax is NOT infinity:\n",
    "            #Calculate zeta from Xmin to Infinity and substract Zeta from Xmax to Infinity\n",
    "            #To find zeta from Xmin to Xmax.\n",
    "            s=zeta(gamma,xmin)-zeta(gamma,xmax)\n",
    "        else:\n",
    "            #if xmax is infinity, simply calculate zeta from Xmin till infinity.\n",
    "            s=zeta(gamma,xmin)\n",
    "    else:\n",
    "        #calculate normalization function when powerlaw is continuous.\n",
    "        #s=(xmax^(-gamma+1)/(1-gamma))-(xminx^(-gamma+1)/(1-gamma))\n",
    "        s = (xmax**(-gamma + 1) / (1 - gamma)) - (xmin**(-gamma + 1) / (1 - gamma))\n",
    "    return s\n",
    "\n",
    "def Z_prime(gamma,xmin,xmax,discrete=True):\n",
    "    h = (1e-8)\n",
    "    s = (Z(gamma + h,xmin,xmax,discrete=True) - Z(gamma - h,xmin,xmax,discrete=True)) / (2 * h)\n",
    "    return s\n",
    "\n",
    "def Z_prime2(gamma,xmin,xmax,discrete=True):\n",
    "    h = (1e-8)\n",
    "    s = (Z(gamma + 2*h,xmin,xmax,discrete=True) - 2*Z(gamma,xmin,xmax,discrete=True) + Z(gamma - 2*h,xmin,xmax,discrete=True)) / (4*(h**2))\n",
    "    return s\n",
    "\n",
    "def Z_jeffrey(gamma,xmin,xmax,discrete=True):\n",
    "    z=np.sqrt((Z_prime2(gamma,xmin,xmax,discrete=True))/Z(gamma,xmin,xmax,discrete=True)-Z_prime(gamma,xmin,xmax,discrete=True)**2/Z(gamma,xmin,xmax,discrete=True)**2)\n",
    "    return z"
   ]
  },
  {
   "cell_type": "code",
   "execution_count": null,
   "metadata": {},
   "outputs": [],
   "source": [
    "Z_prime2(3,1,1000,discrete=True)"
   ]
  },
  {
   "cell_type": "code",
   "execution_count": null,
   "metadata": {},
   "outputs": [],
   "source": [
    "Z_prime2(3,1,1000,discrete=True)"
   ]
  },
  {
   "cell_type": "code",
   "execution_count": null,
   "metadata": {},
   "outputs": [],
   "source": [
    "Z_prime2(3,1,1000,discrete=True)"
   ]
  },
  {
   "cell_type": "code",
   "execution_count": null,
   "metadata": {},
   "outputs": [],
   "source": [
    "Z_prime(3,1,1000,discrete=True)"
   ]
  },
  {
   "cell_type": "code",
   "execution_count": null,
   "metadata": {},
   "outputs": [],
   "source": [
    "Z_prime(3,1,1000,discrete=True)"
   ]
  },
  {
   "cell_type": "code",
   "execution_count": null,
   "metadata": {},
   "outputs": [],
   "source": [
    "Z_jeffrey(3,1,1000)"
   ]
  },
  {
   "cell_type": "code",
   "execution_count": null,
   "metadata": {},
   "outputs": [],
   "source": [
    "Z0=Z(3,1,1000)\n",
    "Z1=Z_prime(3,1,1000)\n",
    "Z2=Z_prime2(3,1,1000)"
   ]
  },
  {
   "cell_type": "code",
   "execution_count": null,
   "metadata": {},
   "outputs": [],
   "source": [
    "Z2"
   ]
  },
  {
   "cell_type": "code",
   "execution_count": null,
   "metadata": {},
   "outputs": [],
   "source": [
    "(-Z1/Z0)**2+Z2/Z0"
   ]
  },
  {
   "cell_type": "code",
   "execution_count": null,
   "metadata": {},
   "outputs": [],
   "source": []
  }
 ],
 "metadata": {
  "kernelspec": {
   "display_name": "Python 3",
   "language": "python",
   "name": "python3"
  },
  "language_info": {
   "codemirror_mode": {
    "name": "ipython",
    "version": 3
   },
   "file_extension": ".py",
   "mimetype": "text/x-python",
   "name": "python",
   "nbconvert_exporter": "python",
   "pygments_lexer": "ipython3",
   "version": "3.6.3"
  }
 },
 "nbformat": 4,
 "nbformat_minor": 2
}
