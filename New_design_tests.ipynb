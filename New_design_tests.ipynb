{
 "cells": [
  {
   "cell_type": "code",
   "execution_count": 2,
   "metadata": {},
   "outputs": [],
   "source": [
    "from scipy.optimize import newton\n",
    "from scipy.special import zeta\n",
    "import scipy as sp\n",
    "import numpy as np\n",
    "from scipy.stats import uniform\n",
    "import matplotlib.pyplot as plt\n",
    "import powerlaw as pl\n",
    "%matplotlib inline"
   ]
  },
  {
   "cell_type": "code",
   "execution_count": 30,
   "metadata": {},
   "outputs": [],
   "source": [
    "data1=pl.power_law(1.01,1000,100000)\n",
    "data2=pl.power_law(3.01,1000,100000)\n",
    "data3=pl.power_law(3.01,1000,100000)\n",
    "data=np.concatenate((data1,data2),axis=0)"
   ]
  },
  {
   "cell_type": "code",
   "execution_count": 38,
   "metadata": {},
   "outputs": [],
   "source": [
    "data_fit=pl.Fit_Bayes(data,mixed=1)"
   ]
  },
  {
   "cell_type": "code",
   "execution_count": 40,
   "metadata": {},
   "outputs": [
    {
     "data": {
      "text/plain": [
       "1352553.0745463986"
      ]
     },
     "execution_count": 40,
     "metadata": {},
     "output_type": "execute_result"
    }
   ],
   "source": [
    "#1\n",
    "data_fit.bic"
   ]
  },
  {
   "cell_type": "code",
   "execution_count": 37,
   "metadata": {},
   "outputs": [
    {
     "data": {
      "text/plain": [
       "1307346.8788976611"
      ]
     },
     "execution_count": 37,
     "metadata": {},
     "output_type": "execute_result"
    }
   ],
   "source": [
    "#2\n",
    "data_fit.bic"
   ]
  },
  {
   "cell_type": "code",
   "execution_count": 32,
   "metadata": {},
   "outputs": [
    {
     "data": {
      "text/plain": [
       "1307371.9304412757"
      ]
     },
     "execution_count": 32,
     "metadata": {},
     "output_type": "execute_result"
    }
   ],
   "source": [
    "#3\n",
    "data_fit.bic"
   ]
  },
  {
   "cell_type": "code",
   "execution_count": 39,
   "metadata": {},
   "outputs": [
    {
     "data": {
      "text/plain": [
       "(array([  128.,   227.,  1559.,  2243.,  2751.,  1425.,  1287.,   314.,\n",
       "           49.,    18.]),\n",
       " array([ 1.37977281,  1.38065897,  1.38154514,  1.3824313 ,  1.38331746,\n",
       "         1.38420362,  1.38508978,  1.38597594,  1.3868621 ,  1.38774826,\n",
       "         1.38863442]),\n",
       " <a list of 10 Patch objects>)"
      ]
     },
     "execution_count": 39,
     "metadata": {},
     "output_type": "execute_result"
    },
    {
     "data": {
      "image/png": "[encoded data removed]",
      "text/plain": [
       "<matplotlib.figure.Figure at 0x117321e80>"
      ]
     },
     "metadata": {},
     "output_type": "display_data"
    }
   ],
   "source": [
    "plt.hist((data_fit.samples_gamma)[0])\n"
   ]
  },
  {
   "cell_type": "code",
   "execution_count": 33,
   "metadata": {},
   "outputs": [
    {
     "data": {
      "text/plain": [
       "(array([  604.,  1321.,   659.,  2083.,   233.,  2029.,  1708.,   741.,\n",
       "          422.,   201.]),\n",
       " array([ 2.9091125 ,  2.92238252,  2.93565253,  2.94892255,  2.96219256,\n",
       "         2.97546258,  2.9887326 ,  3.00200261,  3.01527263,  3.02854264,\n",
       "         3.04181266]),\n",
       " <a list of 10 Patch objects>)"
      ]
     },
     "execution_count": 33,
     "metadata": {},
     "output_type": "execute_result"
    },
    {
     "data": {
      "image/png": "[encoded data removed]",
      "text/plain": [
       "<matplotlib.figure.Figure at 0x115e3c5c0>"
      ]
     },
     "metadata": {},
     "output_type": "display_data"
    }
   ],
   "source": [
    "plt.hist((data_fit.samples_gamma)[0])\n",
    "plt.hist((data_fit.samples_gamma)[1])\n",
    "plt.hist((data_fit.samples_gamma)[2])"
   ]
  },
  {
   "cell_type": "code",
   "execution_count": 34,
   "metadata": {},
   "outputs": [
    {
     "data": {
      "text/plain": [
       "(array([  4.00000000e+00,   2.00000000e+00,   4.40000000e+01,\n",
       "          2.71000000e+02,   2.94900000e+03,   6.26000000e+02,\n",
       "          9.13000000e+02,   2.90500000e+03,   9.59000000e+02,\n",
       "          1.32800000e+03]),\n",
       " array([ 0.27901727,  0.30100186,  0.32298646,  0.34497106,  0.36695565,\n",
       "         0.38894025,  0.41092485,  0.43290944,  0.45489404,  0.47687863,\n",
       "         0.49886323]),\n",
       " <a list of 10 Patch objects>)"
      ]
     },
     "execution_count": 34,
     "metadata": {},
     "output_type": "execute_result"
    },
    {
     "data": {
      "image/png": "[encoded data removed]",
      "text/plain": [
       "<matplotlib.figure.Figure at 0x115fd06a0>"
      ]
     },
     "metadata": {},
     "output_type": "display_data"
    }
   ],
   "source": [
    "plt.hist((data_fit.samples_weight)[0])\n",
    "plt.hist((data_fit.samples_weight)[1])\n",
    "plt.hist((data_fit.samples_weight)[2])"
   ]
  },
  {
   "cell_type": "code",
   "execution_count": null,
   "metadata": {},
   "outputs": [],
   "source": [
    "def Z(gamma, xmin, xmax, discrete=True):\n",
    "    \"\"\"\n",
    "    The normalization function Z for discrete and continuous powerlaw distributions.\n",
    "    Input: gamma - a randomly sampled target exponent using MCMC algorithm.\n",
    "    Output: s - normalization value.\n",
    "    \"\"\"\n",
    "    if discrete==True: #when powerlaw is discrete\n",
    "        if np.isfinite(xmax): #if xmax is NOT infinity:\n",
    "            #Calculate zeta from Xmin to Infinity and substract Zeta from Xmax to Infinity\n",
    "            #To find zeta from Xmin to Xmax.\n",
    "            s=zeta(gamma,xmin)-zeta(gamma,xmax)\n",
    "        else:\n",
    "            #if xmax is infinity, simply calculate zeta from Xmin till infinity.\n",
    "            s=zeta(gamma,xmin)\n",
    "    else:\n",
    "        #calculate normalization function when powerlaw is continuous.\n",
    "        #s=(xmax^(-gamma+1)/(1-gamma))-(xminx^(-gamma+1)/(1-gamma))\n",
    "        s = (xmax**(-gamma + 1) / (1 - gamma)) - (xmin**(-gamma + 1) / (1 - gamma))\n",
    "    return s\n",
    "\n",
    "def Z_prime(gamma,xmin,xmax,discrete=True):\n",
    "    h = (1e-8)\n",
    "    s = (Z(gamma + h,xmin,xmax,discrete=True) - Z(gamma - h,xmin,xmax,discrete=True)) / (2 * h)\n",
    "    return s\n",
    "\n",
    "def Z_prime2(gamma,xmin,xmax,discrete=True):\n",
    "    h = (1e-8)\n",
    "    s = (Z(gamma + 2*h,xmin,xmax,discrete=True) - 2*Z(gamma,xmin,xmax,discrete=True) + Z(gamma - 2*h,xmin,xmax,discrete=True)) / (4*(h**2))\n",
    "    return s\n",
    "\n",
    "def Z_jeffrey(gamma,xmin,xmax,discrete=True):\n",
    "    z=np.sqrt((Z_prime2(gamma,xmin,xmax,discrete=True))/Z(gamma,xmin,xmax,discrete=True)-Z_prime(gamma,xmin,xmax,discrete=True)**2/Z(gamma,xmin,xmax,discrete=True)**2)\n",
    "    return z"
   ]
  },
  {
   "cell_type": "code",
   "execution_count": null,
   "metadata": {},
   "outputs": [],
   "source": [
    "Z_prime2(3,1,1000,discrete=True)"
   ]
  },
  {
   "cell_type": "code",
   "execution_count": null,
   "metadata": {},
   "outputs": [],
   "source": [
    "Z_prime2(3,1,1000,discrete=True)"
   ]
  },
  {
   "cell_type": "code",
   "execution_count": null,
   "metadata": {},
   "outputs": [],
   "source": [
    "Z_prime2(3,1,1000,discrete=True)"
   ]
  },
  {
   "cell_type": "code",
   "execution_count": null,
   "metadata": {},
   "outputs": [],
   "source": [
    "Z_prime(3,1,1000,discrete=True)"
   ]
  },
  {
   "cell_type": "code",
   "execution_count": null,
   "metadata": {},
   "outputs": [],
   "source": [
    "Z_prime(3,1,1000,discrete=True)"
   ]
  },
  {
   "cell_type": "code",
   "execution_count": null,
   "metadata": {},
   "outputs": [],
   "source": [
    "Z_jeffrey(3,1,1000)"
   ]
  },
  {
   "cell_type": "code",
   "execution_count": null,
   "metadata": {},
   "outputs": [],
   "source": [
    "Z0=Z(3,1,1000)\n",
    "Z1=Z_prime(3,1,1000)\n",
    "Z2=Z_prime2(3,1,1000)"
   ]
  },
  {
   "cell_type": "code",
   "execution_count": null,
   "metadata": {},
   "outputs": [],
   "source": [
    "Z2"
   ]
  },
  {
   "cell_type": "code",
   "execution_count": null,
   "metadata": {},
   "outputs": [],
   "source": [
    "(-Z1/Z0)**2+Z2/Z0"
   ]
  },
  {
   "cell_type": "code",
   "execution_count": null,
   "metadata": {},
   "outputs": [],
   "source": []
  }
 ],
 "metadata": {
  "kernelspec": {
   "display_name": "Python 3",
   "language": "python",
   "name": "python3"
  }
 },
 "nbformat": 4,
 "nbformat_minor": 2
}
